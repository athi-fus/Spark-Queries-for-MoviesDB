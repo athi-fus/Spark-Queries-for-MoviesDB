{
 "cells": [
  {
   "cell_type": "code",
   "execution_count": 1,
   "id": "8ddd3c66",
   "metadata": {},
   "outputs": [
    {
     "name": "stdout",
     "output_type": "stream",
     "text": [
      "Total number of people who watched 'Jumanji': 22243\n",
      "\n",
      "Scheduling mode = FIFO\n",
      "Spark Context default degree of parallelism = 2\n",
      "Aggregated Spark stage metrics:\n",
      "numStages => 7\n",
      "numTasks => 17\n",
      "elapsedTime => 23652 (24 s)\n",
      "stageDuration => 22846 (23 s)\n",
      "executorRunTime => 34373 (34 s)\n",
      "executorCpuTime => 33124 (33 s)\n",
      "executorDeserializeTime => 2310 (2 s)\n",
      "executorDeserializeCpuTime => 1780 (2 s)\n",
      "resultSerializationTime => 4 (4 ms)\n",
      "jvmGCTime => 794 (0.8 s)\n",
      "shuffleFetchWaitTime => 0 (0 ms)\n",
      "shuffleWriteTime => 12 (12 ms)\n",
      "resultSize => 12744 (12.0 KB)\n",
      "diskBytesSpilled => 0 (0 Bytes)\n",
      "memoryBytesSpilled => 0 (0 Bytes)\n",
      "peakExecutionMemory => 192\n",
      "recordsRead => 40027809\n",
      "bytesRead => 1384480482 (1320.0 MB)\n",
      "recordsWritten => 0\n",
      "bytesWritten => 0 (0 Bytes)\n",
      "shuffleRecordsRead => 6\n",
      "shuffleTotalBlocksFetched => 6\n",
      "shuffleLocalBlocksFetched => 6\n",
      "shuffleRemoteBlocksFetched => 0\n",
      "shuffleTotalBytesRead => 354 (354 Bytes)\n",
      "shuffleLocalBytesRead => 354 (354 Bytes)\n",
      "shuffleRemoteBytesRead => 0 (0 Bytes)\n",
      "shuffleRemoteBytesReadToDisk => 0 (0 Bytes)\n",
      "shuffleBytesWritten => 354 (354 Bytes)\n",
      "shuffleRecordsWritten => 6\n"
     ]
    }
   ],
   "source": [
    "from pyspark.sql import SparkSession\n",
    "from sparkmeasure import StageMetrics\n",
    "\n",
    "spark = SparkSession.builder.appName('q6').config(\"spark.jars\", \"/home/athina/Downloads/spark-measure_2.12-0.17.jar\").getOrCreate()\n",
    "\n",
    "#For VIRTUAL\n",
    "#spark = SparkSession.builder.master('spark://picachu-VirtualBox:7077').appName('q1').config(\"spark.jars\", \"/home/athina/Downloads/spark-measure_2.12-0.17.jar\").getOrCreate()\n",
    "\n",
    "#For LIVY\n",
    "#spark=SparkSession.builder.master('spark://localhost:7077').appName(\"Testing\").getOrCreate()\n",
    "#and changed the filepaths to '/home/administrator/Downloads/movielens/file_name.csv'\n",
    "\n",
    "stagemetrics = StageMetrics(spark)\n",
    "stagemetrics.begin()\n",
    "\n",
    "df_movie= (spark.read\n",
    "     .format(\"csv\")\n",
    "     .option('header', 'true')\n",
    "     .option('delimiter', \",\")\n",
    "     .option(\"inferSchema\",\"true\")\n",
    "     .load(\"movie.csv\") \n",
    "    )\n",
    "df_rating= (spark.read\n",
    "     .format(\"csv\")\n",
    "     .option('header', 'true')\n",
    "     .option('delimiter', \",\")\n",
    "     .option(\"inferSchema\",\"true\")\n",
    "     .load(\"rating.csv\") \n",
    "    )\n",
    "\n",
    "temp=df_movie.filter(df_movie.title.like(\"Jumanji%\")) #getting the movie Jumanji\n",
    "results=df_rating.join(temp, temp[\"movieId\"]==df_rating[\"movieId\"],\"inner\").hint('broadcast').count() #counting the users who saw Jumanji\n",
    "print(\"Total number of people who watched 'Jumanji':\",results) #requested answer for query 1\n",
    "\n",
    "stagemetrics.end()#stop measuring performance\n",
    "stagemetrics.print_report()#print performance metrics\n",
    "spark.stop()#stop spark"
   ]
  },
  {
   "cell_type": "code",
   "execution_count": null,
   "id": "21c26cdc",
   "metadata": {},
   "outputs": [],
   "source": []
  },
  {
   "cell_type": "code",
   "execution_count": null,
   "id": "57a31a81",
   "metadata": {},
   "outputs": [],
   "source": []
  }
 ],
 "metadata": {
  "kernelspec": {
   "display_name": "Python 3",
   "language": "python",
   "name": "python3"
  },
  "language_info": {
   "codemirror_mode": {
    "name": "ipython",
    "version": 3
   },
   "file_extension": ".py",
   "mimetype": "text/x-python",
   "name": "python",
   "nbconvert_exporter": "python",
   "pygments_lexer": "ipython3",
   "version": "3.8.5"
  }
 },
 "nbformat": 4,
 "nbformat_minor": 5
}
